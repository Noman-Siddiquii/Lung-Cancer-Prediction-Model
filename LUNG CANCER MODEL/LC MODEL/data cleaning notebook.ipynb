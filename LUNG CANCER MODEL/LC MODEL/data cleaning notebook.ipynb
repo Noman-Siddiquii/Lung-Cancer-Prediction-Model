{
 "cells": [
  {
   "cell_type": "code",
   "execution_count": 3,
   "id": "f34d31bf-0d15-4b5b-bead-e3ed0a9fdbc1",
   "metadata": {},
   "outputs": [],
   "source": [
    "import pandas as pd\n",
    "import numpy as np\n",
    "import matplotlib.pyplot as plt\n",
    "import seaborn as sns"
   ]
  },
  {
   "cell_type": "code",
   "execution_count": 4,
   "id": "30d3cab6-06f8-4644-aca4-1fbf8c279ce5",
   "metadata": {},
   "outputs": [],
   "source": [
    "df=pd.read_csv(\"Cancer_data.csv\")"
   ]
  },
  {
   "cell_type": "code",
   "execution_count": 5,
   "id": "468143fb-caa1-47ec-8c0f-6ee666aaad81",
   "metadata": {},
   "outputs": [
    {
     "data": {
      "text/html": [
       "<div>\n",
       "<style scoped>\n",
       "    .dataframe tbody tr th:only-of-type {\n",
       "        vertical-align: middle;\n",
       "    }\n",
       "\n",
       "    .dataframe tbody tr th {\n",
       "        vertical-align: top;\n",
       "    }\n",
       "\n",
       "    .dataframe thead th {\n",
       "        text-align: right;\n",
       "    }\n",
       "</style>\n",
       "<table border=\"1\" class=\"dataframe\">\n",
       "  <thead>\n",
       "    <tr style=\"text-align: right;\">\n",
       "      <th></th>\n",
       "      <th>Unnamed: 0</th>\n",
       "      <th>Gender</th>\n",
       "      <th>Age</th>\n",
       "      <th>Smoking</th>\n",
       "      <th>YELLOW_FINGERS</th>\n",
       "      <th>Anxiety</th>\n",
       "      <th>Peer_Pressure</th>\n",
       "      <th>Chronic Disease</th>\n",
       "      <th>Fatigue</th>\n",
       "      <th>ALLERGY</th>\n",
       "      <th>Wheezing</th>\n",
       "      <th>Alcohol Consuming</th>\n",
       "      <th>Coughing</th>\n",
       "      <th>Shortness of Breath</th>\n",
       "      <th>Swallowing Difficulty</th>\n",
       "      <th>Chest Pain</th>\n",
       "      <th>Cancer</th>\n",
       "    </tr>\n",
       "  </thead>\n",
       "  <tbody>\n",
       "    <tr>\n",
       "      <th>0</th>\n",
       "      <td>0</td>\n",
       "      <td>M</td>\n",
       "      <td>69</td>\n",
       "      <td>Yes</td>\n",
       "      <td>Yes</td>\n",
       "      <td>Yes</td>\n",
       "      <td>No</td>\n",
       "      <td>No</td>\n",
       "      <td>Yes</td>\n",
       "      <td>No</td>\n",
       "      <td>Yes</td>\n",
       "      <td>Yes</td>\n",
       "      <td>Yes</td>\n",
       "      <td>Yes</td>\n",
       "      <td>Yes</td>\n",
       "      <td>Yes</td>\n",
       "      <td>Yes</td>\n",
       "    </tr>\n",
       "    <tr>\n",
       "      <th>1</th>\n",
       "      <td>1</td>\n",
       "      <td>M</td>\n",
       "      <td>74</td>\n",
       "      <td>Yes</td>\n",
       "      <td>Yes</td>\n",
       "      <td>No</td>\n",
       "      <td>No</td>\n",
       "      <td>Yes</td>\n",
       "      <td>Yes</td>\n",
       "      <td>Yes</td>\n",
       "      <td>No</td>\n",
       "      <td>No</td>\n",
       "      <td>No</td>\n",
       "      <td>Yes</td>\n",
       "      <td>Yes</td>\n",
       "      <td>Yes</td>\n",
       "      <td>Yes</td>\n",
       "    </tr>\n",
       "    <tr>\n",
       "      <th>2</th>\n",
       "      <td>2</td>\n",
       "      <td>F</td>\n",
       "      <td>59</td>\n",
       "      <td>Yes</td>\n",
       "      <td>Yes</td>\n",
       "      <td>No</td>\n",
       "      <td>Yes</td>\n",
       "      <td>No</td>\n",
       "      <td>Yes</td>\n",
       "      <td>No</td>\n",
       "      <td>Yes</td>\n",
       "      <td>No</td>\n",
       "      <td>Yes</td>\n",
       "      <td>Yes</td>\n",
       "      <td>No</td>\n",
       "      <td>Yes</td>\n",
       "      <td>Yes</td>\n",
       "    </tr>\n",
       "    <tr>\n",
       "      <th>3</th>\n",
       "      <td>3</td>\n",
       "      <td>M</td>\n",
       "      <td>63</td>\n",
       "      <td>Yes</td>\n",
       "      <td>Yes</td>\n",
       "      <td>Yes</td>\n",
       "      <td>No</td>\n",
       "      <td>No</td>\n",
       "      <td>No</td>\n",
       "      <td>No</td>\n",
       "      <td>No</td>\n",
       "      <td>Yes</td>\n",
       "      <td>No</td>\n",
       "      <td>Yes</td>\n",
       "      <td>Yes</td>\n",
       "      <td>Yes</td>\n",
       "      <td>Yes</td>\n",
       "    </tr>\n",
       "    <tr>\n",
       "      <th>4</th>\n",
       "      <td>4</td>\n",
       "      <td>F</td>\n",
       "      <td>63</td>\n",
       "      <td>Yes</td>\n",
       "      <td>Yes</td>\n",
       "      <td>No</td>\n",
       "      <td>No</td>\n",
       "      <td>No</td>\n",
       "      <td>No</td>\n",
       "      <td>No</td>\n",
       "      <td>Yes</td>\n",
       "      <td>No</td>\n",
       "      <td>Yes</td>\n",
       "      <td>Yes</td>\n",
       "      <td>No</td>\n",
       "      <td>No</td>\n",
       "      <td>Yes</td>\n",
       "    </tr>\n",
       "  </tbody>\n",
       "</table>\n",
       "</div>"
      ],
      "text/plain": [
       "   Unnamed: 0 Gender  Age Smoking YELLOW_FINGERS Anxiety Peer_Pressure  \\\n",
       "0           0      M   69     Yes            Yes     Yes            No   \n",
       "1           1      M   74     Yes            Yes      No            No   \n",
       "2           2      F   59     Yes            Yes      No           Yes   \n",
       "3           3      M   63     Yes            Yes     Yes            No   \n",
       "4           4      F   63     Yes            Yes      No            No   \n",
       "\n",
       "  Chronic Disease Fatigue ALLERGY  Wheezing Alcohol Consuming Coughing  \\\n",
       "0              No     Yes       No      Yes               Yes      Yes   \n",
       "1             Yes     Yes      Yes       No                No       No   \n",
       "2              No     Yes       No      Yes                No      Yes   \n",
       "3              No      No       No       No               Yes       No   \n",
       "4              No      No       No      Yes                No      Yes   \n",
       "\n",
       "  Shortness of Breath Swallowing Difficulty Chest Pain Cancer  \n",
       "0                 Yes                   Yes        Yes    Yes  \n",
       "1                 Yes                   Yes        Yes    Yes  \n",
       "2                 Yes                    No        Yes    Yes  \n",
       "3                 Yes                   Yes        Yes    Yes  \n",
       "4                 Yes                    No         No    Yes  "
      ]
     },
     "execution_count": 5,
     "metadata": {},
     "output_type": "execute_result"
    }
   ],
   "source": [
    "df.head()"
   ]
  },
  {
   "cell_type": "code",
   "execution_count": 4,
   "id": "19551004-73ef-4002-907a-c624869675f7",
   "metadata": {},
   "outputs": [
    {
     "data": {
      "text/plain": [
       "(309, 17)"
      ]
     },
     "execution_count": 4,
     "metadata": {},
     "output_type": "execute_result"
    }
   ],
   "source": [
    "df.shape"
   ]
  },
  {
   "cell_type": "code",
   "execution_count": 6,
   "id": "79a97cf2-8409-44c2-aae8-3bdb6384ee5a",
   "metadata": {},
   "outputs": [
    {
     "name": "stdout",
     "output_type": "stream",
     "text": [
      "<class 'pandas.core.frame.DataFrame'>\n",
      "RangeIndex: 309 entries, 0 to 308\n",
      "Data columns (total 17 columns):\n",
      " #   Column                 Non-Null Count  Dtype \n",
      "---  ------                 --------------  ----- \n",
      " 0   Unnamed: 0             309 non-null    int64 \n",
      " 1   Gender                 309 non-null    object\n",
      " 2   Age                    309 non-null    int64 \n",
      " 3   Smoking                309 non-null    object\n",
      " 4   YELLOW_FINGERS         309 non-null    object\n",
      " 5   Anxiety                309 non-null    object\n",
      " 6   Peer_Pressure          309 non-null    object\n",
      " 7   Chronic Disease        309 non-null    object\n",
      " 8   Fatigue                309 non-null    object\n",
      " 9   ALLERGY                309 non-null    object\n",
      " 10  Wheezing               309 non-null    object\n",
      " 11  Alcohol Consuming      309 non-null    object\n",
      " 12  Coughing               309 non-null    object\n",
      " 13  Shortness of Breath    309 non-null    object\n",
      " 14  Swallowing Difficulty  309 non-null    object\n",
      " 15  Chest Pain             309 non-null    object\n",
      " 16  Cancer                 309 non-null    object\n",
      "dtypes: int64(2), object(15)\n",
      "memory usage: 41.2+ KB\n"
     ]
    }
   ],
   "source": [
    "df.info()"
   ]
  },
  {
   "cell_type": "code",
   "execution_count": 5,
   "id": "0b318f17-3fa6-47f9-9392-9d810690aabd",
   "metadata": {},
   "outputs": [
    {
     "data": {
      "text/plain": [
       "Unnamed: 0               0\n",
       "Gender                   0\n",
       "Age                      0\n",
       "Smoking                  0\n",
       "YELLOW_FINGERS           0\n",
       "Anxiety                  0\n",
       "Peer_Pressure            0\n",
       "Chronic Disease          0\n",
       "Fatigue                  0\n",
       "ALLERGY                  0\n",
       "Wheezing                 0\n",
       "Alcohol Consuming        0\n",
       "Coughing                 0\n",
       "Shortness of Breath      0\n",
       "Swallowing Difficulty    0\n",
       "Chest Pain               0\n",
       "Cancer                   0\n",
       "dtype: int64"
      ]
     },
     "execution_count": 5,
     "metadata": {},
     "output_type": "execute_result"
    }
   ],
   "source": [
    "df.isnull().sum()"
   ]
  },
  {
   "cell_type": "code",
   "execution_count": 6,
   "id": "706c2004-3518-463e-afc5-5d6de1aba403",
   "metadata": {},
   "outputs": [
    {
     "name": "stdout",
     "output_type": "stream",
     "text": [
      "0\n"
     ]
    }
   ],
   "source": [
    "print(df.duplicated().sum())"
   ]
  },
  {
   "cell_type": "code",
   "execution_count": 7,
   "id": "4ffe099b-5525-4126-a0b5-413261b07968",
   "metadata": {},
   "outputs": [
    {
     "data": {
      "text/plain": [
       "<Axes: xlabel='Age'>"
      ]
     },
     "execution_count": 7,
     "metadata": {},
     "output_type": "execute_result"
    },
    {
     "data": {
      "image/png": "[encoded data removed]",
      "text/plain": [
       "<Figure size 640x480 with 1 Axes>"
      ]
     },
     "metadata": {},
     "output_type": "display_data"
    }
   ],
   "source": [
    "sns.boxplot(x=df['Age'])"
   ]
  },
  {
   "cell_type": "code",
   "execution_count": 8,
   "id": "3b342d4e-c643-445c-9fcb-ac04ba1d7e38",
   "metadata": {},
   "outputs": [
    {
     "data": {
      "text/plain": [
       "<Axes: xlabel='Age', ylabel='Count'>"
      ]
     },
     "execution_count": 8,
     "metadata": {},
     "output_type": "execute_result"
    },
    {
     "data": {
      "image/png": "[encoded data removed]",
      "text/plain": [
       "<Figure size 640x480 with 1 Axes>"
      ]
     },
     "metadata": {},
     "output_type": "display_data"
    }
   ],
   "source": [
    "sns.histplot(df['Age'],kde=True)"
   ]
  },
  {
   "cell_type": "code",
   "execution_count": 9,
   "id": "bf06d140-e40b-483f-a1da-84e6e51ba0aa",
   "metadata": {},
   "outputs": [],
   "source": [
    "from scipy.stats import zscore\n",
    "df['Z_score'] = zscore(df['Age'])\n",
    "\n",
    "z_threshold = 3\n",
    "\n",
    "df.loc[df['Z_score'] > z_threshold, 'Age'] = df['Age'][df['Z_score'] <= z_threshold].max()\n",
    "df.loc[df['Z_score'] < -z_threshold, 'Age'] = df['Age'][df['Z_score'] >= -z_threshold].min()\n",
    "\n",
    "df = df.drop(columns=['Z_score'])"
   ]
  },
  {
   "cell_type": "code",
   "execution_count": 10,
   "id": "c70cd387-2f99-42f3-9942-b52bc00c00a4",
   "metadata": {},
   "outputs": [
    {
     "data": {
      "text/plain": [
       "<Axes: xlabel='Age'>"
      ]
     },
     "execution_count": 10,
     "metadata": {},
     "output_type": "execute_result"
    },
    {
     "data": {
      "image/png": "[encoded data removed]",
      "text/plain": [
       "<Figure size 640x480 with 1 Axes>"
      ]
     },
     "metadata": {},
     "output_type": "display_data"
    }
   ],
   "source": [
    "sns.boxplot(x=df['Age'])"
   ]
  },
  {
   "cell_type": "code",
   "execution_count": 11,
   "id": "a5815b33-6efa-4044-b2f5-f1673ce08651",
   "metadata": {},
   "outputs": [
    {
     "data": {
      "text/html": [
       "<div>\n",
       "<style scoped>\n",
       "    .dataframe tbody tr th:only-of-type {\n",
       "        vertical-align: middle;\n",
       "    }\n",
       "\n",
       "    .dataframe tbody tr th {\n",
       "        vertical-align: top;\n",
       "    }\n",
       "\n",
       "    .dataframe thead th {\n",
       "        text-align: right;\n",
       "    }\n",
       "</style>\n",
       "<table border=\"1\" class=\"dataframe\">\n",
       "  <thead>\n",
       "    <tr style=\"text-align: right;\">\n",
       "      <th></th>\n",
       "      <th>Unnamed: 0</th>\n",
       "      <th>Gender</th>\n",
       "      <th>Age</th>\n",
       "      <th>Smoking</th>\n",
       "      <th>YELLOW_FINGERS</th>\n",
       "      <th>Anxiety</th>\n",
       "      <th>Peer_Pressure</th>\n",
       "      <th>Chronic Disease</th>\n",
       "      <th>Fatigue</th>\n",
       "      <th>ALLERGY</th>\n",
       "      <th>Wheezing</th>\n",
       "      <th>Alcohol Consuming</th>\n",
       "      <th>Coughing</th>\n",
       "      <th>Shortness of Breath</th>\n",
       "      <th>Swallowing Difficulty</th>\n",
       "      <th>Chest Pain</th>\n",
       "      <th>Cancer</th>\n",
       "    </tr>\n",
       "  </thead>\n",
       "  <tbody>\n",
       "    <tr>\n",
       "      <th>0</th>\n",
       "      <td>0</td>\n",
       "      <td>M</td>\n",
       "      <td>69</td>\n",
       "      <td>Yes</td>\n",
       "      <td>Yes</td>\n",
       "      <td>Yes</td>\n",
       "      <td>No</td>\n",
       "      <td>No</td>\n",
       "      <td>Yes</td>\n",
       "      <td>No</td>\n",
       "      <td>Yes</td>\n",
       "      <td>Yes</td>\n",
       "      <td>Yes</td>\n",
       "      <td>Yes</td>\n",
       "      <td>Yes</td>\n",
       "      <td>Yes</td>\n",
       "      <td>Yes</td>\n",
       "    </tr>\n",
       "    <tr>\n",
       "      <th>1</th>\n",
       "      <td>1</td>\n",
       "      <td>M</td>\n",
       "      <td>74</td>\n",
       "      <td>Yes</td>\n",
       "      <td>Yes</td>\n",
       "      <td>No</td>\n",
       "      <td>No</td>\n",
       "      <td>Yes</td>\n",
       "      <td>Yes</td>\n",
       "      <td>Yes</td>\n",
       "      <td>No</td>\n",
       "      <td>No</td>\n",
       "      <td>No</td>\n",
       "      <td>Yes</td>\n",
       "      <td>Yes</td>\n",
       "      <td>Yes</td>\n",
       "      <td>Yes</td>\n",
       "    </tr>\n",
       "    <tr>\n",
       "      <th>2</th>\n",
       "      <td>2</td>\n",
       "      <td>F</td>\n",
       "      <td>59</td>\n",
       "      <td>Yes</td>\n",
       "      <td>Yes</td>\n",
       "      <td>No</td>\n",
       "      <td>Yes</td>\n",
       "      <td>No</td>\n",
       "      <td>Yes</td>\n",
       "      <td>No</td>\n",
       "      <td>Yes</td>\n",
       "      <td>No</td>\n",
       "      <td>Yes</td>\n",
       "      <td>Yes</td>\n",
       "      <td>No</td>\n",
       "      <td>Yes</td>\n",
       "      <td>Yes</td>\n",
       "    </tr>\n",
       "    <tr>\n",
       "      <th>3</th>\n",
       "      <td>3</td>\n",
       "      <td>M</td>\n",
       "      <td>63</td>\n",
       "      <td>Yes</td>\n",
       "      <td>Yes</td>\n",
       "      <td>Yes</td>\n",
       "      <td>No</td>\n",
       "      <td>No</td>\n",
       "      <td>No</td>\n",
       "      <td>No</td>\n",
       "      <td>No</td>\n",
       "      <td>Yes</td>\n",
       "      <td>No</td>\n",
       "      <td>Yes</td>\n",
       "      <td>Yes</td>\n",
       "      <td>Yes</td>\n",
       "      <td>Yes</td>\n",
       "    </tr>\n",
       "    <tr>\n",
       "      <th>4</th>\n",
       "      <td>4</td>\n",
       "      <td>F</td>\n",
       "      <td>63</td>\n",
       "      <td>Yes</td>\n",
       "      <td>Yes</td>\n",
       "      <td>No</td>\n",
       "      <td>No</td>\n",
       "      <td>No</td>\n",
       "      <td>No</td>\n",
       "      <td>No</td>\n",
       "      <td>Yes</td>\n",
       "      <td>No</td>\n",
       "      <td>Yes</td>\n",
       "      <td>Yes</td>\n",
       "      <td>No</td>\n",
       "      <td>No</td>\n",
       "      <td>Yes</td>\n",
       "    </tr>\n",
       "  </tbody>\n",
       "</table>\n",
       "</div>"
      ],
      "text/plain": [
       "   Unnamed: 0 Gender  Age Smoking YELLOW_FINGERS Anxiety Peer_Pressure  \\\n",
       "0           0      M   69     Yes            Yes     Yes            No   \n",
       "1           1      M   74     Yes            Yes      No            No   \n",
       "2           2      F   59     Yes            Yes      No           Yes   \n",
       "3           3      M   63     Yes            Yes     Yes            No   \n",
       "4           4      F   63     Yes            Yes      No            No   \n",
       "\n",
       "  Chronic Disease Fatigue ALLERGY  Wheezing Alcohol Consuming Coughing  \\\n",
       "0              No     Yes       No      Yes               Yes      Yes   \n",
       "1             Yes     Yes      Yes       No                No       No   \n",
       "2              No     Yes       No      Yes                No      Yes   \n",
       "3              No      No       No       No               Yes       No   \n",
       "4              No      No       No      Yes                No      Yes   \n",
       "\n",
       "  Shortness of Breath Swallowing Difficulty Chest Pain Cancer  \n",
       "0                 Yes                   Yes        Yes    Yes  \n",
       "1                 Yes                   Yes        Yes    Yes  \n",
       "2                 Yes                    No        Yes    Yes  \n",
       "3                 Yes                   Yes        Yes    Yes  \n",
       "4                 Yes                    No         No    Yes  "
      ]
     },
     "execution_count": 11,
     "metadata": {},
     "output_type": "execute_result"
    }
   ],
   "source": [
    "df.head()"
   ]
  },
  {
   "cell_type": "code",
   "execution_count": 12,
   "id": "9a9be0d4-2443-4fd7-bf8c-2b582e32f3ca",
   "metadata": {},
   "outputs": [],
   "source": [
    "df.to_csv(\"cleaned_Cancer_Data.csv\")"
   ]
  }
 ],
 "metadata": {
  "kernelspec": {
   "display_name": "Python 3 (ipykernel)",
   "language": "python",
   "name": "python3"
  },
  "language_info": {
   "codemirror_mode": {
    "name": "ipython",
    "version": 3
   },
   "file_extension": ".py",
   "mimetype": "text/x-python",
   "name": "python",
   "nbconvert_exporter": "python",
   "pygments_lexer": "ipython3",
   "version": "3.11.4"
  }
 },
 "nbformat": 4,
 "nbformat_minor": 5
}
